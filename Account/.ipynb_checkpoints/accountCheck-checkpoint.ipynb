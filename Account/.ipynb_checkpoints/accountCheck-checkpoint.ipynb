{
 "cells": [
  {
   "cell_type": "code",
   "execution_count": 1,
   "id": "7e4d31fc",
   "metadata": {},
   "outputs": [],
   "source": [
    "import sys\n",
    "sys.path.append('../') # add this project path to the system path to import own module\n",
    "\n",
    "from Util.util import Constant\n",
    "from Util import util\n",
    "import time\n",
    "import requests\n",
    "import pickle\n",
    "from Ip.ipCheck import IpPool"
   ]
  },
  {
   "cell_type": "code",
   "execution_count": null,
   "id": "d71c69fd",
   "metadata": {},
   "outputs": [],
   "source": [
    "class AccountPool(object):\n",
    "    def __init__(self):\n",
    "\n",
    "        \n",
    "class Account(object):\n",
    "    def __init__(self, ipObj, raw_account):\n",
    "        self.ipObj = ipObj\n",
    "        self.raw_account = raw_account"
   ]
  }
 ],
 "metadata": {
  "kernelspec": {
   "display_name": "Python 3",
   "language": "python",
   "name": "python3"
  },
  "language_info": {
   "codemirror_mode": {
    "name": "ipython",
    "version": 3
   },
   "file_extension": ".py",
   "mimetype": "text/x-python",
   "name": "python",
   "nbconvert_exporter": "python",
   "pygments_lexer": "ipython3",
   "version": "3.6.13"
  }
 },
 "nbformat": 4,
 "nbformat_minor": 5
}
