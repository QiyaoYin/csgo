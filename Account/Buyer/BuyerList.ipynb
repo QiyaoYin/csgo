{
 "cells": [
  {
   "cell_type": "code",
   "execution_count": 1,
   "metadata": {},
   "outputs": [],
   "source": [
    "import sys\n",
    "sys.path.append(\"/home/jerryin/jupyter_proj/csgo/\")\n",
    "\n",
    "import pandas as pd\n",
    "from Util.util import Constant"
   ]
  },
  {
   "cell_type": "code",
   "execution_count": 80,
   "metadata": {},
   "outputs": [],
   "source": [
    "class Buyers(object):\n",
    "    '''\n",
    "        从newAccount.csv中读取数据，保存在buyerlist.csv和disabledbuyerlist.csv中\n",
    "        methods:\n",
    "            addNewAccount: add new accounts to buyerlist.csv and remove the accounts from newAccount.csv.\n",
    "            removeNewAccount: remove accounts from newAccount.csv.\n",
    "            saveBuyerList: save buyerlist to buyerlist.csv.\n",
    "            saveDisabledBuyerList: save disabledBuyerList instance to disabledBuyerList.csv.\n",
    "            buyerlistToJson: change dataframe buyerlist to json type.\n",
    "            pdToJson: pandas dataframe to json.\n",
    "            disabledBuyerListToJson: change dataframe disabledBuyerList to json type.\n",
    "            update: pass.\n",
    "            disableAccount: remove disabled account from buyerlist to disabledbuyerlist.\n",
    "    '''\n",
    "    def __init__(self) -> None:\n",
    "        self.buyerList = pd.read_csv(Constant.buyer_list_dir, header = 0)\n",
    "        \n",
    "        self.disabledBuyerList = pd.read_csv(Constant.disabled_buyer_list_dir, header = 0)\n",
    "\n",
    "        self.newAccountList = pd.read_csv(Constant.new_account_list_dir, header = 0)\n",
    "        \n",
    "        self.addNewAccount()\n",
    "        \n",
    "        self.buyerListJson = self.pdToJson(self.buyerList)\n",
    "\n",
    "        self.disabledBuyerListJson = self.pdToJson(self.disabledBuyerList)\n",
    "\n",
    "    def addNewAccount(self) -> None:\n",
    "        '''\n",
    "            add new accounts to buyerlist.csv and remove the accounts from newAccount.csv.\n",
    "        '''\n",
    "        self.buyerList = pd.concat([self.buyerList,self.newAccountList], ignore_index=True)\n",
    "        self.removeNewAccount()\n",
    "        self.saveBuyerList()\n",
    "\n",
    "    def removeNewAccount(self) -> None:\n",
    "        '''\n",
    "            remove accounts from newAccount.csv.\n",
    "        '''\n",
    "        self.newAccountList.drop(self.newAccountList.index[:len(self.newAccountList)], inplace = True)\n",
    "        \n",
    "        self.newAccountList.to_csv(Constant.new_account_list_dir, index = False)\n",
    "    \n",
    "    def update(self) -> None:\n",
    "        pass\n",
    "    \n",
    "    def saveBuyerList(self) -> None:\n",
    "       '''\n",
    "            save buyerlist to buyerlist.csv.\n",
    "       '''\n",
    "       self.buyerList.to_csv(Constant.buyer_list_dir, index = False)\n",
    "    \n",
    "    def saveDisabledBuyerList(self) -> None:\n",
    "        '''\n",
    "            save disabledBuyerList instance to disabledBuyerList.csv.\n",
    "        '''\n",
    "        self.disabledBuyerList.to_csv(Constant.disabled_buyer_list_dir, index = False)\n",
    "    \n",
    "    def pdToJson(self, pd) -> list:\n",
    "        '''\n",
    "            pandas dataframe to json.\n",
    "        '''\n",
    "        res = []\n",
    "        for _, df_gp in pd.groupby('BUFF_ACCOUNT'):\n",
    "            res.append(df_gp.to_dict(orient='records')[0])\n",
    "        return res\n",
    "    \n",
    "    def buyerListToJson(self) -> list:\n",
    "        '''\n",
    "            change dataframe buyerlist to json type.\n",
    "        '''\n",
    "        return self.pdToJson(self.buyerList)\n",
    "        \n",
    "    def disabledBuyerListToJson(self) -> list:\n",
    "        '''\n",
    "            change dataframe disabledBuyerList to json type.\n",
    "        '''\n",
    "        return self.pdToJson(self.disabledBuyerList)\n",
    "        \n",
    "    def disableAccount(self, buff_phone) -> list:\n",
    "        '''\n",
    "            remove disabled account from buyerlist to disabledbuyerlist.\n",
    "        '''\n",
    "        _index = self.buyerList[self.buyerList['BUFF_ACCOUNT'] == int(buff_phone)].index\n",
    "        disabled_account = self.buyerList.iloc[_index]\n",
    "        \n",
    "        self.disabledBuyerList = self.disabledBuyerList.append(disabled_account, ignore_index = True)\n",
    "        \n",
    "        self.buyerList.drop(_index, inplace = True)\n",
    "\n",
    "        self.saveBuyerList()\n",
    "        self.saveDisabledBuyerList()\n",
    "\n",
    "        self.buyerListJson = self.buyerListToJson()\n",
    "        self.disabledBuyerListJson = self.disabledBuyerListToJson()\n",
    "\n",
    "        return self.buyerListJson"
   ]
  },
  {
   "cell_type": "code",
   "execution_count": 81,
   "metadata": {},
   "outputs": [],
   "source": [
    "buyers = Buyers()"
   ]
  },
  {
   "cell_type": "code",
   "execution_count": 82,
   "metadata": {},
   "outputs": [],
   "source": [
    "buyer_list_json = buyers.buyerListToJson()"
   ]
  },
  {
   "cell_type": "code",
   "execution_count": 83,
   "metadata": {},
   "outputs": [
    {
     "name": "stdout",
     "output_type": "stream",
     "text": [
      "6\n"
     ]
    }
   ],
   "source": [
    "print(len(buyer_list_json))"
   ]
  },
  {
   "cell_type": "code",
   "execution_count": 84,
   "metadata": {},
   "outputs": [],
   "source": [
    "tmp = buyers.disableAccount('17706619337')"
   ]
  },
  {
   "cell_type": "code",
   "execution_count": 85,
   "metadata": {},
   "outputs": [
    {
     "data": {
      "text/plain": [
       "[{'BUFF_ACCOUNT': 16215707729,\n",
       "  'BUFF_PWD': 'Yqy@123456789',\n",
       "  'STEAM_EMAIL': 'g4hedeg664@suiyongsuiqi.com',\n",
       "  'STEAM_ACCOUNT': 'jerryin10',\n",
       "  'STEAM_PWD': 'yqy12345'},\n",
       " {'BUFF_ACCOUNT': 16571003870,\n",
       "  'BUFF_PWD': 'Yqy@1234567',\n",
       "  'STEAM_EMAIL': 'm33rb7ot31i@suiyongsuiqi.com',\n",
       "  'STEAM_ACCOUNT': 'jerryin8',\n",
       "  'STEAM_PWD': 'txjhnnb12345'},\n",
       " {'BUFF_ACCOUNT': 16737138654,\n",
       "  'BUFF_PWD': 'Yqy@123456',\n",
       "  'STEAM_EMAIL': '591lmbcdvlg@suiyongsuiqi.com',\n",
       "  'STEAM_ACCOUNT': 'jerryin7',\n",
       "  'STEAM_PWD': 'txjhnnb12345'},\n",
       " {'BUFF_ACCOUNT': 17050573086,\n",
       "  'BUFF_PWD': 'Yqy@12345678',\n",
       "  'STEAM_EMAIL': 'nctux7if4ge@suiyongsuiqi.com',\n",
       "  'STEAM_ACCOUNT': 'jerryin9',\n",
       "  'STEAM_PWD': 'txjhnnb12345'},\n",
       " {'BUFF_ACCOUNT': 17056635880,\n",
       "  'BUFF_PWD': 'Yqy@12345',\n",
       "  'STEAM_EMAIL': 'kyiaqmhoj6@suiyongsuiqi.com',\n",
       "  'STEAM_ACCOUNT': 'jerryin5',\n",
       "  'STEAM_PWD': 'txjhnnb12345'}]"
      ]
     },
     "execution_count": 85,
     "metadata": {},
     "output_type": "execute_result"
    }
   ],
   "source": [
    "tmp"
   ]
  },
  {
   "cell_type": "code",
   "execution_count": null,
   "metadata": {},
   "outputs": [],
   "source": []
  }
 ],
 "metadata": {
  "kernelspec": {
   "display_name": "csgo",
   "language": "python",
   "name": "python3"
  },
  "language_info": {
   "codemirror_mode": {
    "name": "ipython",
    "version": 3
   },
   "file_extension": ".py",
   "mimetype": "text/x-python",
   "name": "python",
   "nbconvert_exporter": "python",
   "pygments_lexer": "ipython3",
   "version": "3.6.13"
  }
 },
 "nbformat": 4,
 "nbformat_minor": 2
}
