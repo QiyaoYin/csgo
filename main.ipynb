{
 "cells": [
  {
   "cell_type": "code",
   "execution_count": 1,
   "metadata": {},
   "outputs": [],
   "source": [
    "import sys\n",
    "sys.path.append('../') # add this project path to the system path to import own module\n",
    "\n",
    "from Util.util import Constant, getMilliTime\n",
    "from Util import util\n",
    "import time\n",
    "import requests\n",
    "import pickle\n",
    "from Ip.ipCheck import IpPool, Ip\n",
    "from Account.accountCheck import AccountPool, Account\n",
    "import threading\n",
    "from hyper.contrib import HTTP20Adapter\n",
    "import random"
   ]
  },
  {
   "cell_type": "code",
   "execution_count": 2,
   "metadata": {},
   "outputs": [],
   "source": [
    "class MyThread(threading.Thread):\n",
    "    def __init__(self, threadID, account, sleepSec, goods_id):\n",
    "        threading.Thread.__init__(self)\n",
    "        self.threadID = threadID\n",
    "        self.account = account\n",
    "        self.sleepSecRange = [sleepSec / 2, sleepSec]\n",
    "        self.goods_id = goods_id\n",
    "        self.buff_req_headers = { # request header for accessing market in buff\n",
    "            ':authority': 'buff.163.com',\n",
    "            ':scheme': 'https',\n",
    "            'accept': 'application/json, text/javascript, */*; q=0.01',\n",
    "            'accept-encoding': 'gzip, deflate, br',\n",
    "            'accept-language': 'en-US,en;q=0.9',\n",
    "            'sec-ch-ua': '\"Chromium\";v=\"112\", \"Google Chrome\";v=\"112\", \"Not:A-Brand\";v=\"99\"',\n",
    "            'sec-ch-ua-mobile': '?0',\n",
    "            'sec-ch-ua-platform': '\"Linux\"',\n",
    "            'sec-fetch-dest': 'empty',\n",
    "            'sec-fetch-mod': 'cors',\n",
    "            'sec-fetch-site': 'same-origin',\n",
    "            'user-agent': 'Mozilla/5.0 (X11; Linux x86_64) AppleWebKit/537.36 (KHTML, like Gecko) Chrome/112.0.0.0 Safari/537.36',\n",
    "            'x-requested-with': 'XMLHttpRequest'\n",
    "        } \n",
    "        self.sessions = requests.session() # the session for accessing buff\n",
    "        self.sessions.mount(Constant.domain, HTTP20Adapter())\n",
    "        self.sessions.headers = self.buff_req_headers\n",
    "    \n",
    "    def notification(self, session, domain, cookie, csrf_token, proxies):\n",
    "        _path = Constant.notification_without_timestamp_addr + getMilliTime()\n",
    "        _url = Constant.domain + _path\n",
    "        _header = {\n",
    "            ':method': 'GET',\n",
    "            ':path': _path,\n",
    "            'cookie': cookie + csrf_token,\n",
    "            'referer': domain + '/?game=csgo'\n",
    "        }\n",
    "        return session.get(_url, headers = _header, proxies = proxies)\n",
    "\n",
    "    def get_goods_data(self, session, domain, cookie, csrf_token, goods_id, proxies):\n",
    "        # 裂空武器箱:781534\n",
    "        _path = Constant.getGoodsAddr(goods_id, getMilliTime())\n",
    "        _url = Constant.domain + _path\n",
    "        _header = {\n",
    "            ':method': 'GET',\n",
    "            ':path': _path,\n",
    "            'cookie': cookie + 'csrf_token=' + csrf_token,\n",
    "            'referer': domain + '/goods/' + goods_id,\n",
    "        }\n",
    "        return session.get(_url, headers = _header, proxies = proxies)\n",
    "        \n",
    "    def run(self):\n",
    "        print (\"Starting thread: \" + self.threadID)\n",
    "        \n",
    "        while(True):\n",
    "            time.sleep(random.randint(self.sleepSecRange[0], self.sleepSecRange[1]))\n",
    "            resp = self.get_goods_data(self.sessions, Constant.domain, self.account.cookie, self.account.csrf_token, self.goods_id, self.account.ipObj.proxies)\n",
    "            item = resp.json()['data']['items'][0]\n",
    "            # print('get_goods_data: \\n')\n",
    "            # print(item)\n",
    "            self.account.csrf_token = resp.headers.get(b'set-cookie').decode(\"utf-8\").split(';')[0].split('=')[1]\n",
    "\n",
    "class Main(object):\n",
    "    def __init__(self):\n",
    "        self.account_list = self.getAccountPool()\n",
    "        self.account_len = len(self.account_list)\n",
    "        self.run()\n",
    "        \n",
    "    def run(self):\n",
    "        print('accounts number: ' + str(len(self.account_list)))\n",
    "        for i in range(0, self.account_len):\n",
    "            time.sleep(1)\n",
    "            MyThread('Thread ' + str(i), self.account_list[i], self.account_len, '900464').start()\n",
    "    \n",
    "    def getAccountPool(self):\n",
    "        with open(Constant.account_pool_dir, 'rb') as fin: \n",
    "            return pickle.load(fin)"
   ]
  },
  {
   "cell_type": "code",
   "execution_count": 3,
   "metadata": {},
   "outputs": [
    {
     "name": "stdout",
     "output_type": "stream",
     "text": [
      "accounts number: 2\n",
      "Starting thread: Thread 0\n",
      "Starting thread: Thread 1\n"
     ]
    },
    {
     "data": {
      "text/plain": [
       "<__main__.Main at 0x7faddb63d320>"
      ]
     },
     "execution_count": 3,
     "metadata": {},
     "output_type": "execute_result"
    }
   ],
   "source": [
    "Main()"
   ]
  },
  {
   "cell_type": "code",
   "execution_count": null,
   "metadata": {},
   "outputs": [],
   "source": []
  }
 ],
 "metadata": {
  "kernelspec": {
   "display_name": "csgo",
   "language": "python",
   "name": "python3"
  },
  "language_info": {
   "codemirror_mode": {
    "name": "ipython",
    "version": 3
   },
   "file_extension": ".py",
   "mimetype": "text/x-python",
   "name": "python",
   "nbconvert_exporter": "python",
   "pygments_lexer": "ipython3",
   "version": "3.6.13"
  },
  "orig_nbformat": 4
 },
 "nbformat": 4,
 "nbformat_minor": 2
}
