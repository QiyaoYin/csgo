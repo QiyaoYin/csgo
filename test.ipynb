{
 "cells": [
  {
   "cell_type": "code",
   "execution_count": 1,
   "metadata": {},
   "outputs": [],
   "source": [
    "import time\n",
    "import requests\n",
    "import pickle\n",
    "import threading\n",
    "import random\n",
    "import math\n",
    "from selenium import webdriver\n",
    "from selenium.webdriver.common.proxy import Proxy, ProxyType\n",
    "from selenium.webdriver.support.wait import WebDriverWait\n",
    "from selenium.webdriver.support import expected_conditions as EC\n",
    "from selenium.webdriver.common.by import By"
   ]
  },
  {
   "cell_type": "code",
   "execution_count": 3,
   "metadata": {},
   "outputs": [
    {
     "name": "stdout",
     "output_type": "stream",
     "text": [
      "{\n",
      "  \"origin\": \"175.178.179.214\"\n",
      "}\n",
      "\n"
     ]
    }
   ],
   "source": [
    "# using requests to hide ip\n",
    "proxy = {\n",
    "    \"https\": 'http://175.178.179.214:10008',\n",
    "    \"http\": 'http://175.178.179.214:10008' \n",
    "}\n",
    "\n",
    "session = requests.session()\n",
    "session.proxies.update(proxy)\n",
    "# session.verify = True\n",
    "# cert_location = '/Users/yin/miniconda3/envs/csgo/lib/python3.6/site-packages/certifi/cacert.pem'\n",
    "response=session.get('https://httpbin.org/ip')\n",
    "print(response.text)\n",
    "# https://icanhazip.com/  https://httpbin.org/ip  https://api-bdc.net/data/client-ip"
   ]
  },
  {
   "cell_type": "code",
   "execution_count": 7,
   "metadata": {},
   "outputs": [],
   "source": [
    "PROXY = \"175.178.179.214:10008\" # IP:PORT or HOST:PORT\n",
    "options =  webdriver.ChromeOptions()\n",
    "options.add_argument(f\"--proxy-server={PROXY}\")\n",
    "# options.proxy = proxy\n",
    "options.add_experimental_option(\"detach\", True) # make the chrome window always opened\n",
    "driver = webdriver.Chrome(options = options)\n",
    "\n",
    "\n",
    "driver.get('https://api-bdc.net/data/client-ip')"
   ]
  },
  {
   "cell_type": "code",
   "execution_count": null,
   "metadata": {},
   "outputs": [],
   "source": [
    "购买ip地址：https://www.zdaye.com/PrivateProxy_detail.html#buy\n",
    "需要测试：\n",
    "    1. 是否使用request.session 中的proxy可以代理。\n",
    "    2. 使用webdriver中的proxy可以代理。（account类中的login方法）\n",
    "11"
   ]
  },
  {
   "cell_type": "code",
   "execution_count": null,
   "metadata": {},
   "outputs": [],
   "source": []
  }
 ],
 "metadata": {
  "kernelspec": {
   "display_name": "base",
   "language": "python",
   "name": "python3"
  },
  "language_info": {
   "codemirror_mode": {
    "name": "ipython",
    "version": 3
   },
   "file_extension": ".py",
   "mimetype": "text/x-python",
   "name": "python",
   "nbconvert_exporter": "python",
   "pygments_lexer": "ipython3",
   "version": "3.6.13"
  }
 },
 "nbformat": 4,
 "nbformat_minor": 2
}
