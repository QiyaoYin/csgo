{
 "cells": [
  {
   "cell_type": "code",
   "execution_count": 1,
   "metadata": {},
   "outputs": [],
   "source": [
    "import time\n",
    "import requests\n",
    "import pickle\n",
    "import threading\n",
    "import random\n",
    "import math"
   ]
  },
  {
   "cell_type": "code",
   "execution_count": 13,
   "metadata": {},
   "outputs": [
    {
     "name": "stdout",
     "output_type": "stream",
     "text": [
      "103.172.41.150\n",
      "\n"
     ]
    }
   ],
   "source": [
    "# using requests to hide ip\n",
    "proxy = {\n",
    "    \"https\": 'http://180.210.120.42:8081',\n",
    "    \"http\": 'http://180.210.120.42:8081' \n",
    "}\n",
    "\n",
    "# cert_location = '/Users/yin/miniconda3/envs/csgo/lib/python3.6/site-packages/certifi/cacert.pem'\n",
    "response=requests.post('https://icanhazip.com/', proxies=proxy, verify=True)\n",
    "print(response.text)\n",
    "# https://icanhazip.com/  https://httpbin.org/ip  https://api-bdc.net/data/client-ip"
   ]
  },
  {
   "cell_type": "code",
   "execution_count": 6,
   "metadata": {},
   "outputs": [
    {
     "data": {
      "text/plain": [
       "'/Users/yin/miniconda3/envs/csgo/lib/python3.6/site-packages/certifi/cacert.pem'"
      ]
     },
     "execution_count": 6,
     "metadata": {},
     "output_type": "execute_result"
    }
   ],
   "source": [
    "requests.certs.where()"
   ]
  },
  {
   "cell_type": "code",
   "execution_count": null,
   "metadata": {},
   "outputs": [],
   "source": []
  }
 ],
 "metadata": {
  "kernelspec": {
   "display_name": "base",
   "language": "python",
   "name": "python3"
  },
  "language_info": {
   "codemirror_mode": {
    "name": "ipython",
    "version": 3
   },
   "file_extension": ".py",
   "mimetype": "text/x-python",
   "name": "python",
   "nbconvert_exporter": "python",
   "pygments_lexer": "ipython3",
   "version": "3.6.13"
  }
 },
 "nbformat": 4,
 "nbformat_minor": 2
}
