{
 "cells": [
  {
   "cell_type": "code",
   "execution_count": 1,
   "id": "5df3a492",
   "metadata": {},
   "outputs": [],
   "source": [
    "import sys\n",
    "sys.path.append('../') # add this project path to the system path to import own module\n",
    "\n",
    "from Util.util import Constant\n",
    "from Util import util\n",
    "from rawIpPool import raw_ip_pool\n",
    "import time\n",
    "import requests\n",
    "import pickle"
   ]
  },
  {
   "cell_type": "code",
   "execution_count": 2,
   "id": "e2f88a4f",
   "metadata": {},
   "outputs": [],
   "source": [
    "class Ip(object): # one single ip object\n",
    "    def __init__(self, ip):\n",
    "        self.ip = ip\n",
    "        self.proxies = util.getProxy(self.ip)\n",
    "        self.is_alive = self.checkAlive(self.ip)\n",
    "        self.check_time = time.time()\n",
    "        self.lag = 0\n",
    "        \n",
    "    def checkAlive(self, ip):\n",
    "        _now = time.time()\n",
    "        resp = requests.get(Constant['ip_check_addr'], self.proxies)\n",
    "        self.lag = time.time() - _now\n",
    "        return True if resp.status_code == 200 else False\n",
    "    \n",
    "class IpPool(object):# ip pool object\n",
    "    def __init__(self):\n",
    "        self.raw_ip_array = raw_ip_pool\n",
    "        print(self.raw_ip_array)\n",
    "        self.ip_pool = self.getIpPool()\n",
    "\n",
    "    def getIpPool(self):\n",
    "        ip_pool = []\n",
    "        for index in range(0, len(self.raw_ip_array) - 1):\n",
    "            ip_pool.append(Ip(self.raw_ip_array[index]))\n",
    "        return ip_pool"
   ]
  },
  {
   "cell_type": "code",
   "execution_count": 3,
   "id": "2e60c0c2",
   "metadata": {},
   "outputs": [
    {
     "name": "stdout",
     "output_type": "stream",
     "text": [
      "['http://123.169.39.212:9999', 'http://61.164.39.68:53281', 'http://171.92.20.8:9000', 'http://113.121.36.199:9999']\n"
     ]
    }
   ],
   "source": [
    "ipPool = IpPool()"
   ]
  },
  {
   "cell_type": "code",
   "execution_count": 2,
   "id": "c1090b42",
   "metadata": {},
   "outputs": [],
   "source": [
    "def proxyGet(num):\n",
    "    header = {}\n",
    "    header['User-Agent'] = 'Mozilla/5.0 (Windows NT 10.0; WOW64) AppleWebKit/537.36 (KHTML, like Gecko) Chrome/49.0.2623.221 Safari/537.36 SE 2.X MetaSr 1.0'\n",
    "    sumray = []\n",
    "    cout = 0\n",
    "    for page in range(1, 11):\n",
    "        _url = 'http://www.kxdaili.com/dailiip/1/' + str(page) + '.html'\n",
    "        resp = requests.get(_url, headers = header)\n",
    "        html = resp.text\n",
    "        cout += 1\n",
    "        if cout == num:\n",
    "            return html\n",
    "#     for x in range(1,100):\n",
    "#         url = 'http://www.kxdaili.com/dailiip/2/3.html\n",
    "#         url = 'https://www.kuaidaili.com/free/inha/' + str(x) +'/'\n",
    "#         response = requests.get(url,headers=header,proxies = {'http':\"183.166.71.124\"})\n",
    "#         html = response.text\n",
    "#         regex = r'<td data-title=\"IP\">(.+)</td>'\n",
    "#         iplist = re.findall(regex, html)\n",
    "#         regex2 = r'<td data-title=\"PORT\">(.+)</td>'\n",
    "#         portlist = re.findall(regex2, html)\n",
    "#         regex3 = r'<td data-title=\"类型\">(.+)</td>'\n",
    "#         typelist = re.findall(regex3, html)\n",
    "#         for i,p,t in zip(iplist,portlist,typelist):\n",
    "#             a = i + ':' + p\n",
    "#             cout = cout + 1\n",
    "#             sumray.append(a)\n",
    "#             if cout == num:\n",
    "#                 return sumray"
   ]
  },
  {
   "cell_type": "code",
   "execution_count": 3,
   "id": "d8ec23ca",
   "metadata": {},
   "outputs": [],
   "source": [
    "_html = proxyGet(1)"
   ]
  },
  {
   "cell_type": "code",
   "execution_count": 4,
   "id": "d55bf77e",
   "metadata": {},
   "outputs": [],
   "source": [
    "iptable_reg = r'<table class=\"active\">(.+)</table>'"
   ]
  },
  {
   "cell_type": "code",
   "execution_count": 5,
   "id": "7817c27c",
   "metadata": {},
   "outputs": [
    {
     "data": {
      "text/plain": [
       "[]"
      ]
     },
     "execution_count": 5,
     "metadata": {},
     "output_type": "execute_result"
    }
   ],
   "source": [
    "re.findall(iptable_reg, _html)"
   ]
  },
  {
   "cell_type": "code",
   "execution_count": null,
   "id": "f8eefa19",
   "metadata": {},
   "outputs": [],
   "source": []
  }
 ],
 "metadata": {
  "kernelspec": {
   "display_name": "Python 3",
   "language": "python",
   "name": "python3"
  },
  "language_info": {
   "codemirror_mode": {
    "name": "ipython",
    "version": 3
   },
   "file_extension": ".py",
   "mimetype": "text/x-python",
   "name": "python",
   "nbconvert_exporter": "python",
   "pygments_lexer": "ipython3",
   "version": "3.6.13"
  }
 },
 "nbformat": 4,
 "nbformat_minor": 5
}
