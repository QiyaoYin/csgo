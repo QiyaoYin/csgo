{
 "cells": [
  {
   "cell_type": "code",
   "execution_count": 1,
   "id": "668b2b3d",
   "metadata": {},
   "outputs": [],
   "source": [
    "import json\n",
    "import requests"
   ]
  },
  {
   "cell_type": "code",
   "execution_count": 2,
   "id": "9cb37bf2",
   "metadata": {},
   "outputs": [],
   "source": [
    "def dingding_message(message):\n",
    "    _url = \"https://oapi.dingtalk.com/robot/send?access_token=35a63d6aae0234ee0e794b7f6cec9ec06a44cd89f42c6d9d336488730494f50c\"\n",
    "    headers = {'Content-Type':'application/json'}\n",
    "    data = {\"msgtype\":\"text\",\"text\":{ \"content\": message}}\n",
    "    requests.post(_url, data = json.dumps(data), headers = headers)"
   ]
  },
  {
   "cell_type": "code",
   "execution_count": 4,
   "id": "b8154266",
   "metadata": {},
   "outputs": [],
   "source": [
    "dingding_message(\"add new container\")"
   ]
  },
  {
   "cell_type": "code",
   "execution_count": null,
   "id": "dd5b7745",
   "metadata": {},
   "outputs": [],
   "source": []
  }
 ],
 "metadata": {
  "kernelspec": {
   "display_name": "Python 3",
   "language": "python",
   "name": "python3"
  },
  "language_info": {
   "codemirror_mode": {
    "name": "ipython",
    "version": 3
   },
   "file_extension": ".py",
   "mimetype": "text/x-python",
   "name": "python",
   "nbconvert_exporter": "python",
   "pygments_lexer": "ipython3",
   "version": "3.6.13"
  }
 },
 "nbformat": 4,
 "nbformat_minor": 5
}
