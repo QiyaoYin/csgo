{
 "cells": [
  {
   "cell_type": "code",
   "execution_count": 1,
   "id": "bd044f70",
   "metadata": {},
   "outputs": [],
   "source": [
    "import requests\n",
    "from hyper.contrib import HTTP20Adapter\n",
    "import time\n",
    "from threading import Thread\n",
    "import json"
   ]
  },
  {
   "cell_type": "code",
   "execution_count": 2,
   "id": "6c6a4246",
   "metadata": {},
   "outputs": [],
   "source": [
    "def current_milli_time():\n",
    "    return str(round(time.time() * 1000))\n",
    "domain = 'https://buff.163.com'\n",
    "cookie = 'Device-Id=xsTUySJ9cGu53kLrQSZ1; game=csgo; Locale-Supported=zh-Hans; NTES_YD_SESS=Ir9ONgNWw_qHC1hq7CkH0Ccd60LDIVnCfU50aRqGaEnwYtclYUOmhkjnfydaIH4sQI6_lXnrSAhDl_J7FBc55V0kvTzg8VmzkrAPJRveyB6qkD8Wkiv8qEjTYjE1YdUX_HrRHpfhXwMI5dmfy12ZgMZNf0I1A6BbXQJ05PlFpAddYCibW97UWnCBWzRB2R9BNViacSTi8yNz29Jo8DoKxzdwKRaeELsN.FcGx52e._HpD; S_INFO=1681047179|0|0&60##|19154957874; P_INFO=19154957874|1681047179|1|netease_buff|00&99|null&null&null#zhj&330200#10#0|&0|null|19154957874; remember_me=U1106755806|WaqmJUZwAeXwS7cW3hgxJIxThoW6VLBB; session=1-d0KMl1E6emF95YIXclW0w3oRjDls5z48eHZtprtaiYgD2033803142; '   \n",
    "csrf_token = 'csrf_token=ImU1YTg5MmYzNTU4MGE4YTBjZWViYzJkOWQwMDI0MTFkMGI2ZjZlOWEi.FxRRag.BHjhFc5LELbMSDowiYsW-ajaaIE'\n",
    "headers = {\n",
    "    ':authority': 'buff.163.com',\n",
    "    ':scheme': 'https',\n",
    "    'accept': 'application/json, text/javascript, */*; q=0.01',\n",
    "    'accept-encoding': 'gzip, deflate, br',\n",
    "    'accept-language': 'en-US,en;q=0.9,zh;q=0.8,zh-TW;q=0.7,zh-CN;q=0.6',\n",
    "    'sec-ch-ua': '\"Chromium\";v=\"112\", \"Google Chrome\";v=\"112\", \"Not:A-Brand\";v=\"99\"',\n",
    "    'sec-ch-ua-mobile': '?0',\n",
    "    'sec-ch-ua-platform': '\"Windows\"',\n",
    "    'sec-fetch-dest': 'empty',\n",
    "    'sec-fetch-mod': 'cors',\n",
    "    'sec-fetch-site': 'same-origin',\n",
    "    'user-agent': 'Mozilla/5.0 (Windows NT 10.0; Win64; x64) AppleWebKit/537.36 (KHTML, like Gecko) Chrome/112.0.0.0 Safari/537.36',\n",
    "    'x-requested-with': 'XMLHttpRequest'\n",
    "}\n",
    "goods_id = '900464'# 反冲\n",
    "pay_method = '3' # weixing: 6. BUFF余额-支付宝: 3. \n",
    "message = 'add a new container jerryin jerry'\n",
    "sessions = requests.session()\n",
    "sessions.mount(domain, HTTP20Adapter())\n",
    "sessions.headers = headers\n",
    "\n",
    "buy_cookie = 'Device-Id=xsTUySJ9cGu53kLrQSZ1; game=csgo; Locale-Supported=zh-Hans; NTES_YD_SESS=1sKwdhWrXqWwLqLHaaxOXc7KB7GXOu3uaMhtZsrmZzi_7LHE7Muc9bHfwL5L2VqCR2VaG8sos9soNg9B.B3MEViw7LjJ14hr8BbLG.4nBSm411Bo4._wSbYV7YzW7jMpkCXsC.n9p_R1hjcnNWPTIRTBnt1WGf5KpyathQEJ.GjZxjfF51DiwgwC_J6VUQZ9IQQSf4ZuYywJ3rCixj5gczzj_XRW3edZelda5RRejQ5_x; S_INFO=1681048663|0|0&60##|17376591844; P_INFO=17376591844|1681048663|1|netease_buff|00&99|null&null&null#zhj&330200#10#0|&0|null|17376591844; remember_me=U1106621510|ZRhqhsJSWApe3Wnhg3wNrf4mQ1FRuJgV; session=1-T85gyJnmZK7k79MeX0XEqZvJPJO-7WH1byp8L7kVMoU-2033920798; '\n",
    "buy_csrf_token = 'csrf_token=IjcxMWZiNzhhNWYxM2I2NDhiZmNiMDllZjI4MjViYWFhMzBiZTc1NDki.FxRWDg.YeaR1frIjakmjMw3UlQa9heFC7Y'\n",
    "buy_session = requests.session()\n",
    "buy_session.mount(domain, HTTP20Adapter())\n",
    "buy_session.headers = headers"
   ]
  },
  {
   "cell_type": "code",
   "execution_count": 3,
   "id": "0dedac62",
   "metadata": {},
   "outputs": [],
   "source": [
    "def notification(session, domain, cookie, csrf_token):\n",
    "    _path = '/api/message/notification?_=' + current_milli_time()\n",
    "    _url = domain + _path\n",
    "    _header = {\n",
    "        ':method': 'GET',\n",
    "        ':path': _path,\n",
    "        'cookie': cookie + csrf_token,\n",
    "        'referer': domain + '/?game=csgo'\n",
    "    }\n",
    "    return session.get(_url, headers = _header)"
   ]
  },
  {
   "cell_type": "code",
   "execution_count": 4,
   "id": "6ff02f11",
   "metadata": {},
   "outputs": [],
   "source": [
    "csrf_token = notification(sessions, domain, cookie, csrf_token).headers.get(b'set-cookie').decode(\"utf-8\").split(';')[0]"
   ]
  },
  {
   "cell_type": "code",
   "execution_count": 5,
   "id": "9d3ce8e8",
   "metadata": {},
   "outputs": [],
   "source": [
    "def get_goods_data(session, domain, cookie, csrf_token, goods_id):\n",
    "    # 裂空武器箱:781534\n",
    "    _path = '/api/market/goods/sell_order?game=csgo&goods_id=' + goods_id + '&page_num=1&sort_by=price.asc&mode=&allow_tradable_cooldown=1&_=' + current_milli_time()\n",
    "    _url = domain + _path\n",
    "    _header = {\n",
    "        ':method': 'GET',\n",
    "        ':path': _path,\n",
    "        'cookie': cookie + csrf_token,\n",
    "        'referer': domain + '/goods/' + goods_id,\n",
    "    }\n",
    "    return session.get(_url, headers = _header)"
   ]
  },
  {
   "cell_type": "code",
   "execution_count": 6,
   "id": "5c00c3c5",
   "metadata": {},
   "outputs": [],
   "source": [
    "# def preview(session, domain, cookie, csrf_token, game, goods_id, sell_order_id, price):\n",
    "#     _path = '/api/market/goods/buy/preview?game=csgo&sell_order_id=' + sell_order_id + '&goods_id=' + goods_id + '&price=' + price + '&allow_tradable_cooldown=0&cdkey_id=&_=' + current_milli_time()\n",
    "#     _url = domain + _path\n",
    "#     _header = {\n",
    "#         ':method': 'GET',\n",
    "#         ':path': _path,\n",
    "#         'cookie': cookie + csrf_token,\n",
    "#         'referer': domain + '/goods/' + goods_id + '?from=market',\n",
    "#     }\n",
    "#     return session.get(_url, headers = _header)"
   ]
  },
  {
   "cell_type": "code",
   "execution_count": 7,
   "id": "4f183ee4",
   "metadata": {},
   "outputs": [],
   "source": [
    "# csrf_token = preview(sessions, domain, cookie, csrf_token, 'csgo', goods_id, item['id'], item['price']).headers.get(b'set-cookie').decode(\"utf-8\").split(';')[0]"
   ]
  },
  {
   "cell_type": "code",
   "execution_count": 8,
   "id": "0efd5082",
   "metadata": {},
   "outputs": [],
   "source": [
    "def buy_goods(session, domain, cookie, csrf_token, game, goods_id, sell_order_id, price, pay_method, allow_tradable_cooldown, token, cdkey_id):\n",
    "    _path = '/api/market/goods/buy'\n",
    "    _url = domain + _path\n",
    "    _header = {\n",
    "        ':method': 'POST',\n",
    "        ':path': _path,\n",
    "        'referer': domain + '/goods/' + goods_id,\n",
    "        'content-type': 'application/json',\n",
    "        'origin': domain,\n",
    "        'cookie': cookie + csrf_token,\n",
    "        'x-csrftoken': csrf_token.split('=')[1]\n",
    "    }\n",
    "\n",
    "    form_data = {\n",
    "        \"game\": game,\n",
    "        \"goods_id\":goods_id,\n",
    "        \"sell_order_id\": sell_order_id,\n",
    "        \"price\": price,\n",
    "        \"pay_method\": pay_method,\n",
    "        \"allow_tradable_cooldown\": allow_tradable_cooldown,\n",
    "        \"token\": token,\n",
    "        \"cdkey_id\":cdkey_id\n",
    "    }\n",
    "    r = session.post(_url, headers = _header, json = form_data)\n",
    "    return r.json()"
   ]
  },
  {
   "cell_type": "code",
   "execution_count": 9,
   "id": "a81c7a4a",
   "metadata": {},
   "outputs": [],
   "source": [
    "def sendMessage(message):\n",
    "    _url = \"https://oapi.dingtalk.com/robot/send?access_token=35a63d6aae0234ee0e794b7f6cec9ec06a44cd89f42c6d9d336488730494f50c\"\n",
    "    headers = {'Content-Type':'application/json'}\n",
    "    data = {\"msgtype\":\"text\",\"text\":{ \"content\": message}}\n",
    "    requests.post(_url, data = json.dumps(data), headers = headers)"
   ]
  },
  {
   "cell_type": "code",
   "execution_count": null,
   "id": "3f888f9c",
   "metadata": {},
   "outputs": [
    {
     "name": "stdout",
     "output_type": "stream",
     "text": [
      "'data'\n",
      "'data'\n",
      "'data'\n",
      "'data'\n",
      "'data'\n",
      "'data'\n",
      "'data'\n",
      "'data'\n",
      "'data'\n",
      "'data'\n",
      "'data'\n",
      "'data'\n",
      "'data'\n",
      "'data'\n",
      "Stream forcefully closed\n",
      "'data'\n",
      "'data'\n",
      "'data'\n",
      "'data'\n",
      "6.48\n",
      "'data'\n",
      "'data'\n",
      "'data'\n",
      "'data'\n",
      "'data'\n",
      "'data'\n"
     ]
    }
   ],
   "source": [
    "# print(buy_goods(sessions, domain, cookie, csrf_token, 'csgo', goods_id, item['id'], item['price'], pay_method, '0', '', ''))\n",
    "for i in range(0, 10):\n",
    "    t = 1\n",
    "    buy_csrf_token = notification(buy_session, domain, buy_cookie, buy_csrf_token).headers.get(b'set-cookie').decode(\"utf-8\").split(';')[0]\n",
    "    while(1):\n",
    "        time.sleep(t)\n",
    "        try:\n",
    "            resp = get_goods_data(sessions, domain, cookie, csrf_token, goods_id)\n",
    "            item = resp.json()['data']['items'][0]\n",
    "            csrf_token = resp.headers.get(b'set-cookie').decode(\"utf-8\").split(';')[0]\n",
    "            if(float(item['price']) < 7):\n",
    "                buy_goods(buy_session, domain, buy_cookie, buy_csrf_token, 'csgo', goods_id, item['id'], item['price'], pay_method, '0', '', '')\n",
    "                print(item['price'])\n",
    "                sendMessage(message + item['price'])\n",
    "                break\n",
    "            if t > 1:\n",
    "                t -= 0.5\n",
    "        except Exception as e:\n",
    "            t += 1\n",
    "            print(e)\n",
    "            continue"
   ]
  },
  {
   "cell_type": "code",
   "execution_count": null,
   "id": "e9723a2d",
   "metadata": {},
   "outputs": [],
   "source": []
  }
 ],
 "metadata": {
  "kernelspec": {
   "display_name": "Python 3",
   "language": "python",
   "name": "python3"
  },
  "language_info": {
   "codemirror_mode": {
    "name": "ipython",
    "version": 3
   },
   "file_extension": ".py",
   "mimetype": "text/x-python",
   "name": "python",
   "nbconvert_exporter": "python",
   "pygments_lexer": "ipython3",
   "version": "3.6.13"
  }
 },
 "nbformat": 4,
 "nbformat_minor": 5
}
