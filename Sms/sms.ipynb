{
 "cells": [
  {
   "cell_type": "code",
   "execution_count": 4,
   "metadata": {},
   "outputs": [],
   "source": [
    "import sys\n",
    "sys.path.append('../') # add this project path to the system path to import own module\n",
    "\n",
    "from Util.util import Constant\n",
    "import requests"
   ]
  },
  {
   "cell_type": "code",
   "execution_count": 2,
   "metadata": {},
   "outputs": [],
   "source": [
    "class Sms(object):\n",
    "    def __init__(self):\n",
    "        self.username = 'jerryin'\n",
    "        self.password = 'jerryin'\n",
    "        self.sms_token = '07cddd262b8f4c5cb4d84227b10ea618'\n",
    "        self.key_word = '%E7%BD%91%E6%98%93' # url code for 网易\n",
    "        self.login_addr = 'http://api.ejiema.com/zc/data.php?code=login&user=' + self.username + '&password=' + self.password\n",
    "        self.sms_balance_addr = 'http://api.ejiema.com/zc/data.php?code=leftAmount&token=' + self.sms_token # the address get the balance of my account\n",
    "        self.sms_phone_addr = 'http://api.ejiema.com/zc/data.php?code=getPhone&token=' + self.sms_token\n",
    "        self.sms_message_addr = 'http://api.ejiema.com/zc/data.php?code=getMsg&token=' + self.sms_token\n",
    "        self.sms_release_addr = 'http://api.ejiema.com/zc/data.php?code=release&token=' + self.sms_token\n",
    "        self.sms_block_addr = 'http://api.ejiema.com/zc/data.php?code=block&token=' + self.sms_token\n",
    "        self.sms_send_addr = 'http://api.ejiema.com/zc/data.php?code=send&token=' + self.sms_token\n",
    "        \n",
    "    def login(self):\n",
    "        '''\n",
    "        login to the sms platform and get the token\n",
    "\n",
    "        return: \n",
    "            token: str\n",
    "        '''\n",
    "        return requests.get(self.login_addr).text\n",
    "    \n",
    "    def getBalance(self):\n",
    "        '''\n",
    "            return the accout balance. str\n",
    "        '''\n",
    "\n",
    "        return requests.get(self.sms_balance_addr).text\n",
    "\n",
    "    def getPhone(self, phone = '', province = '', card_type = ''):\n",
    "        '''\n",
    "            phone: optional. 指定的号码，不填的话表示随机获取号码；(phone)\n",
    "            province: optional. 省份，具体名称可参照APP里的；(province)\n",
    "            card_type: optional. 选值范围：[实卡,虚卡,全部]。(cardType)\n",
    "            \n",
    "            return: phone number: str.\n",
    "        '''\n",
    "        phone_str = '' if phone == '' else '&phone=' + phone\n",
    "        province_str = '' if province == '' else '&province=' + province\n",
    "        card_type_str = '' if card_type == '' else '&cardType=' + card_type\n",
    "        addr = self.sms_phone_addr + phone_str + province_str + card_type_str\n",
    "        return requests.get(addr).text\n",
    "    \n",
    "    def getMsg(self, phone):\n",
    "        '''\n",
    "            return the message\n",
    "            phone: compulsory. the phone number to get the sms.\n",
    "            keyWord: compulsory. the keyWord of the message. here is 网易.\n",
    "\n",
    "            return:\n",
    "                success: the content of message.\n",
    "                did not receive yet: return str contains '[尚未收到]'.\n",
    "                fail: ERROR:'errror message'\n",
    "        '''\n",
    "        addr = self.sms_message_addr + '&phone=' + phone + '&keyWord=' + self.key_word\n",
    "        return requests.get(addr).text\n",
    "    \n",
    "    def releasePhone(self, phone):\n",
    "        '''\n",
    "            release a defined phone number\n",
    "\n",
    "            phone: compulsory. str.\n",
    "\n",
    "            return: result of releasing. \n",
    "        '''\n",
    "        addr = self.sms_release_addr + '&phone=' + phone\n",
    "        return requests.get(addr).text\n",
    "\n",
    "    def blockPhone(self, phone):\n",
    "        '''\n",
    "            block a defined phone number.\n",
    "            phone: str. compulsory.\n",
    "\n",
    "            return: result. str.\n",
    "        '''\n",
    "        addr = self.sms_block_addr + '&phone=' + phone\n",
    "        return requests.get(addr).text\n",
    "    \n",
    "    def sendMsg(self, phone, toPhone, projId, content):\n",
    "        '''\n",
    "            send message from phone to toPhone.\n",
    "            phone: str. compulsory. the send phone number.\n",
    "            toPhone:  str. compulsory. the receiver.\n",
    "            # projId: project id.\n",
    "            content: the message content. （should be url coded）\n",
    "            return: result.\n",
    "        '''\n",
    "        addr = self.sms_send_addr + '&phone=' + phone + '&toPhone=' + toPhone + '&content=' + content\n",
    "        return requests.get(addr).text"
   ]
  },
  {
   "cell_type": "code",
   "execution_count": null,
   "metadata": {},
   "outputs": [],
   "source": [
    "尚未收到包含关键字“网易”的短信，请5秒后再收取。请确保设置了正确的关键字。[尚未收到]\n",
    "17037446377/1.0/【网易】验证码：411485，您正在登录网易手机帐号（若非本人操作，请删除本短信）"
   ]
  },
  {
   "cell_type": "code",
   "execution_count": 7,
   "metadata": {},
   "outputs": [],
   "source": [
    "import re"
   ]
  },
  {
   "cell_type": "code",
   "execution_count": 17,
   "metadata": {},
   "outputs": [],
   "source": [
    "str = \"尚未收到包含关键字“网易”的短信，请5秒后再收取。请确保设置了正确的关键字。[尚未收到]\"\n",
    "a = re.findall(r\"验证码：(\\d+)，\", str)"
   ]
  },
  {
   "cell_type": "code",
   "execution_count": 18,
   "metadata": {},
   "outputs": [
    {
     "data": {
      "text/plain": [
       "0"
      ]
     },
     "execution_count": 18,
     "metadata": {},
     "output_type": "execute_result"
    }
   ],
   "source": [
    "len(a)"
   ]
  },
  {
   "cell_type": "code",
   "execution_count": null,
   "metadata": {},
   "outputs": [],
   "source": []
  }
 ],
 "metadata": {
  "kernelspec": {
   "display_name": "csgo",
   "language": "python",
   "name": "python3"
  },
  "language_info": {
   "codemirror_mode": {
    "name": "ipython",
    "version": 3
   },
   "file_extension": ".py",
   "mimetype": "text/x-python",
   "name": "python",
   "nbconvert_exporter": "python",
   "pygments_lexer": "ipython3",
   "version": "3.6.13"
  },
  "orig_nbformat": 4
 },
 "nbformat": 4,
 "nbformat_minor": 2
}
